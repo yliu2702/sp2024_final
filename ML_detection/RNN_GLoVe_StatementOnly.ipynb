{
 "cells": [
  {
   "cell_type": "markdown",
   "id": "ca472b19",
   "metadata": {},
   "source": [
    "## RNN + GloVe Embedding Model"
   ]
  },
  {
   "cell_type": "markdown",
   "id": "aa771c2e",
   "metadata": {},
   "source": [
    "Import packages"
   ]
  },
  {
   "cell_type": "code",
   "execution_count": null,
   "id": "c20f4d4c",
   "metadata": {},
   "outputs": [],
   "source": [
    "import numpy as np\n",
    "import tensorflow as tf\n",
    "from tensorflow import keras\n",
    "import pandas as pd\n",
    "import matplotlib.pyplot as plt\n",
    "from nltk.tokenize import word_tokenize\n",
    "from nltk.stem import WordNetLemmatizer, PorterStemmer\n",
    "from sklearn import preprocessing\n",
    "from tqdm import tqdm\n",
    "from keras.utils import np_utils\n",
    "from sklearn.model_selection import train_test_split\n",
    "from keras.preprocessing import sequence\n",
    "from keras.preprocessing.text import Tokenizer\n",
    "from keras.callbacks import EarlyStopping\n",
    "from nltk.corpus import stopwords\n",
    "from keras.models import Sequential\n",
    "from keras.layers import GlobalMaxPooling1D, Conv1D, MaxPooling1D, Flatten, Bidirectional, SpatialDropout1D\n",
    "from keras.layers.recurrent import LSTM, GRU\n",
    "from keras.layers import Dense, Conv2D, MaxPooling2D, Dropout, Flatten\n",
    "from keras.layers.embeddings import Embedding\n",
    "from keras.layers.core import Dense, Activation, Dropout"
   ]
  },
  {
   "cell_type": "code",
   "execution_count": 262,
   "id": "eb82615e",
   "metadata": {},
   "outputs": [],
   "source": [
    "columns = [\"id\",\n",
    "           \"label\",\n",
    "           \"statement\",\n",
    "           \"subject\",\n",
    "           \"speaker\",\n",
    "           \"job_title\",\n",
    "           \"state_info\",\n",
    "           \"party_affiliation\",\n",
    "           \"barely_true_counts\",\n",
    "           \"false_counts\",\n",
    "           \"half_true_counts\",\n",
    "           \"mostly_true_counts\",\n",
    "           \"pants_on_fire_counts\",\n",
    "           \"context\"]\n",
    "\n",
    "df_test = pd.read_csv(\"test.tsv\", names=columns,sep='\\t')\n",
    "df_train = pd.read_csv(\"train.tsv\", names=columns,sep='\\t')\n",
    "df_valid = pd.read_csv(\"valid.tsv\", names=columns,sep='\\t')"
   ]
  },
  {
   "cell_type": "code",
   "execution_count": 263,
   "id": "13c3dd39",
   "metadata": {},
   "outputs": [
    {
     "data": {
      "text/html": [
       "<div>\n",
       "<style scoped>\n",
       "    .dataframe tbody tr th:only-of-type {\n",
       "        vertical-align: middle;\n",
       "    }\n",
       "\n",
       "    .dataframe tbody tr th {\n",
       "        vertical-align: top;\n",
       "    }\n",
       "\n",
       "    .dataframe thead th {\n",
       "        text-align: right;\n",
       "    }\n",
       "</style>\n",
       "<table border=\"1\" class=\"dataframe\">\n",
       "  <thead>\n",
       "    <tr style=\"text-align: right;\">\n",
       "      <th></th>\n",
       "      <th>id</th>\n",
       "      <th>label</th>\n",
       "      <th>statement</th>\n",
       "      <th>subject</th>\n",
       "      <th>speaker</th>\n",
       "      <th>job_title</th>\n",
       "      <th>state_info</th>\n",
       "      <th>party_affiliation</th>\n",
       "      <th>barely_true_counts</th>\n",
       "      <th>false_counts</th>\n",
       "      <th>half_true_counts</th>\n",
       "      <th>mostly_true_counts</th>\n",
       "      <th>pants_on_fire_counts</th>\n",
       "      <th>context</th>\n",
       "    </tr>\n",
       "  </thead>\n",
       "  <tbody>\n",
       "    <tr>\n",
       "      <th>0</th>\n",
       "      <td>11972.json</td>\n",
       "      <td>true</td>\n",
       "      <td>Building a wall on the U.S.-Mexico border will...</td>\n",
       "      <td>immigration</td>\n",
       "      <td>rick-perry</td>\n",
       "      <td>Governor</td>\n",
       "      <td>Texas</td>\n",
       "      <td>republican</td>\n",
       "      <td>30</td>\n",
       "      <td>30</td>\n",
       "      <td>42</td>\n",
       "      <td>23</td>\n",
       "      <td>18</td>\n",
       "      <td>Radio interview</td>\n",
       "    </tr>\n",
       "    <tr>\n",
       "      <th>1</th>\n",
       "      <td>11685.json</td>\n",
       "      <td>false</td>\n",
       "      <td>Wisconsin is on pace to double the number of l...</td>\n",
       "      <td>jobs</td>\n",
       "      <td>katrina-shankland</td>\n",
       "      <td>State representative</td>\n",
       "      <td>Wisconsin</td>\n",
       "      <td>democrat</td>\n",
       "      <td>2</td>\n",
       "      <td>1</td>\n",
       "      <td>0</td>\n",
       "      <td>0</td>\n",
       "      <td>0</td>\n",
       "      <td>a news conference</td>\n",
       "    </tr>\n",
       "    <tr>\n",
       "      <th>2</th>\n",
       "      <td>11096.json</td>\n",
       "      <td>false</td>\n",
       "      <td>Says John McCain has done nothing to help the ...</td>\n",
       "      <td>military,veterans,voting-record</td>\n",
       "      <td>donald-trump</td>\n",
       "      <td>President-Elect</td>\n",
       "      <td>New York</td>\n",
       "      <td>republican</td>\n",
       "      <td>63</td>\n",
       "      <td>114</td>\n",
       "      <td>51</td>\n",
       "      <td>37</td>\n",
       "      <td>61</td>\n",
       "      <td>comments on ABC's This Week.</td>\n",
       "    </tr>\n",
       "    <tr>\n",
       "      <th>3</th>\n",
       "      <td>5209.json</td>\n",
       "      <td>half-true</td>\n",
       "      <td>Suzanne Bonamici supports a plan that will cut...</td>\n",
       "      <td>medicare,message-machine-2012,campaign-adverti...</td>\n",
       "      <td>rob-cornilles</td>\n",
       "      <td>consultant</td>\n",
       "      <td>Oregon</td>\n",
       "      <td>republican</td>\n",
       "      <td>1</td>\n",
       "      <td>1</td>\n",
       "      <td>3</td>\n",
       "      <td>1</td>\n",
       "      <td>1</td>\n",
       "      <td>a radio show</td>\n",
       "    </tr>\n",
       "    <tr>\n",
       "      <th>4</th>\n",
       "      <td>9524.json</td>\n",
       "      <td>pants-fire</td>\n",
       "      <td>When asked by a reporter whether hes at the ce...</td>\n",
       "      <td>campaign-finance,legal-issues,campaign-adverti...</td>\n",
       "      <td>state-democratic-party-wisconsin</td>\n",
       "      <td>NaN</td>\n",
       "      <td>Wisconsin</td>\n",
       "      <td>democrat</td>\n",
       "      <td>5</td>\n",
       "      <td>7</td>\n",
       "      <td>2</td>\n",
       "      <td>2</td>\n",
       "      <td>7</td>\n",
       "      <td>a web video</td>\n",
       "    </tr>\n",
       "  </tbody>\n",
       "</table>\n",
       "</div>"
      ],
      "text/plain": [
       "           id       label                                          statement  \\\n",
       "0  11972.json        true  Building a wall on the U.S.-Mexico border will...   \n",
       "1  11685.json       false  Wisconsin is on pace to double the number of l...   \n",
       "2  11096.json       false  Says John McCain has done nothing to help the ...   \n",
       "3   5209.json   half-true  Suzanne Bonamici supports a plan that will cut...   \n",
       "4   9524.json  pants-fire  When asked by a reporter whether hes at the ce...   \n",
       "\n",
       "                                             subject  \\\n",
       "0                                        immigration   \n",
       "1                                               jobs   \n",
       "2                    military,veterans,voting-record   \n",
       "3  medicare,message-machine-2012,campaign-adverti...   \n",
       "4  campaign-finance,legal-issues,campaign-adverti...   \n",
       "\n",
       "                            speaker             job_title state_info  \\\n",
       "0                        rick-perry              Governor      Texas   \n",
       "1                 katrina-shankland  State representative  Wisconsin   \n",
       "2                      donald-trump       President-Elect   New York   \n",
       "3                     rob-cornilles            consultant     Oregon   \n",
       "4  state-democratic-party-wisconsin                   NaN  Wisconsin   \n",
       "\n",
       "  party_affiliation  barely_true_counts  false_counts  half_true_counts  \\\n",
       "0        republican                  30            30                42   \n",
       "1          democrat                   2             1                 0   \n",
       "2        republican                  63           114                51   \n",
       "3        republican                   1             1                 3   \n",
       "4          democrat                   5             7                 2   \n",
       "\n",
       "   mostly_true_counts  pants_on_fire_counts                       context  \n",
       "0                  23                    18               Radio interview  \n",
       "1                   0                     0             a news conference  \n",
       "2                  37                    61  comments on ABC's This Week.  \n",
       "3                   1                     1                  a radio show  \n",
       "4                   2                     7                   a web video  "
      ]
     },
     "execution_count": 263,
     "metadata": {},
     "output_type": "execute_result"
    }
   ],
   "source": [
    "df_test.head()"
   ]
  },
  {
   "cell_type": "code",
   "execution_count": 264,
   "id": "ba5c21db",
   "metadata": {},
   "outputs": [],
   "source": [
    "# cleaning the statements\n",
    "REPLACE_BY_SPACE_RE = re.compile('[/(){}\\[\\]\\|@,;]')\n",
    "BAD_SYMBOLS_RE = re.compile('[^0-9a-z #+_]')\n",
    "STOPWORDS = set(stopwords.words('english'))\n",
    "\n",
    "def clean_text(text):\n",
    "    text = BeautifulSoup(text, \"lxml\").text # HTML decoding\n",
    "    text = text.lower() # lowercase text\n",
    "    text = REPLACE_BY_SPACE_RE.sub(' ', text) # replace REPLACE_BY_SPACE_RE symbols by space in text\n",
    "    text = BAD_SYMBOLS_RE.sub('', text) # delete symbols which are in BAD_SYMBOLS_RE from text\n",
    "    text = ' '.join(word for word in text.split() if word not in STOPWORDS) # delete stopwors from text\n",
    "    return text\n",
    "\n",
    "\n",
    "df_test['statement_clean'] = df_test.statement.apply(clean_text)\n",
    "df_train['statement_clean'] = df_train.statement.apply(clean_text)\n",
    "df_valid['statement_clean'] = df_valid.statement.apply(clean_text)"
   ]
  },
  {
   "cell_type": "code",
   "execution_count": 266,
   "id": "8afefac2",
   "metadata": {},
   "outputs": [
    {
     "data": {
      "text/html": [
       "<div>\n",
       "<style scoped>\n",
       "    .dataframe tbody tr th:only-of-type {\n",
       "        vertical-align: middle;\n",
       "    }\n",
       "\n",
       "    .dataframe tbody tr th {\n",
       "        vertical-align: top;\n",
       "    }\n",
       "\n",
       "    .dataframe thead th {\n",
       "        text-align: right;\n",
       "    }\n",
       "</style>\n",
       "<table border=\"1\" class=\"dataframe\">\n",
       "  <thead>\n",
       "    <tr style=\"text-align: right;\">\n",
       "      <th></th>\n",
       "      <th>id</th>\n",
       "      <th>label</th>\n",
       "      <th>statement</th>\n",
       "      <th>subject</th>\n",
       "      <th>speaker</th>\n",
       "      <th>job_title</th>\n",
       "      <th>state_info</th>\n",
       "      <th>party_affiliation</th>\n",
       "      <th>barely_true_counts</th>\n",
       "      <th>false_counts</th>\n",
       "      <th>half_true_counts</th>\n",
       "      <th>mostly_true_counts</th>\n",
       "      <th>pants_on_fire_counts</th>\n",
       "      <th>context</th>\n",
       "      <th>statement_clean</th>\n",
       "    </tr>\n",
       "  </thead>\n",
       "  <tbody>\n",
       "    <tr>\n",
       "      <th>0</th>\n",
       "      <td>11972.json</td>\n",
       "      <td>true</td>\n",
       "      <td>Building a wall on the U.S.-Mexico border will...</td>\n",
       "      <td>immigration</td>\n",
       "      <td>rick-perry</td>\n",
       "      <td>Governor</td>\n",
       "      <td>Texas</td>\n",
       "      <td>republican</td>\n",
       "      <td>30</td>\n",
       "      <td>30</td>\n",
       "      <td>42</td>\n",
       "      <td>23</td>\n",
       "      <td>18</td>\n",
       "      <td>Radio interview</td>\n",
       "      <td>building wall usmexico border take literally y...</td>\n",
       "    </tr>\n",
       "    <tr>\n",
       "      <th>1</th>\n",
       "      <td>11685.json</td>\n",
       "      <td>false</td>\n",
       "      <td>Wisconsin is on pace to double the number of l...</td>\n",
       "      <td>jobs</td>\n",
       "      <td>katrina-shankland</td>\n",
       "      <td>State representative</td>\n",
       "      <td>Wisconsin</td>\n",
       "      <td>democrat</td>\n",
       "      <td>2</td>\n",
       "      <td>1</td>\n",
       "      <td>0</td>\n",
       "      <td>0</td>\n",
       "      <td>0</td>\n",
       "      <td>a news conference</td>\n",
       "      <td>wisconsin pace double number layoffs year</td>\n",
       "    </tr>\n",
       "    <tr>\n",
       "      <th>2</th>\n",
       "      <td>11096.json</td>\n",
       "      <td>false</td>\n",
       "      <td>Says John McCain has done nothing to help the ...</td>\n",
       "      <td>military,veterans,voting-record</td>\n",
       "      <td>donald-trump</td>\n",
       "      <td>President-Elect</td>\n",
       "      <td>New York</td>\n",
       "      <td>republican</td>\n",
       "      <td>63</td>\n",
       "      <td>114</td>\n",
       "      <td>51</td>\n",
       "      <td>37</td>\n",
       "      <td>61</td>\n",
       "      <td>comments on ABC's This Week.</td>\n",
       "      <td>says john mccain done nothing help vets</td>\n",
       "    </tr>\n",
       "    <tr>\n",
       "      <th>3</th>\n",
       "      <td>5209.json</td>\n",
       "      <td>half-true</td>\n",
       "      <td>Suzanne Bonamici supports a plan that will cut...</td>\n",
       "      <td>medicare,message-machine-2012,campaign-adverti...</td>\n",
       "      <td>rob-cornilles</td>\n",
       "      <td>consultant</td>\n",
       "      <td>Oregon</td>\n",
       "      <td>republican</td>\n",
       "      <td>1</td>\n",
       "      <td>1</td>\n",
       "      <td>3</td>\n",
       "      <td>1</td>\n",
       "      <td>1</td>\n",
       "      <td>a radio show</td>\n",
       "      <td>suzanne bonamici supports plan cut choice medi...</td>\n",
       "    </tr>\n",
       "    <tr>\n",
       "      <th>4</th>\n",
       "      <td>9524.json</td>\n",
       "      <td>pants-fire</td>\n",
       "      <td>When asked by a reporter whether hes at the ce...</td>\n",
       "      <td>campaign-finance,legal-issues,campaign-adverti...</td>\n",
       "      <td>state-democratic-party-wisconsin</td>\n",
       "      <td>NaN</td>\n",
       "      <td>Wisconsin</td>\n",
       "      <td>democrat</td>\n",
       "      <td>5</td>\n",
       "      <td>7</td>\n",
       "      <td>2</td>\n",
       "      <td>2</td>\n",
       "      <td>7</td>\n",
       "      <td>a web video</td>\n",
       "      <td>asked reporter whether hes center criminal sch...</td>\n",
       "    </tr>\n",
       "  </tbody>\n",
       "</table>\n",
       "</div>"
      ],
      "text/plain": [
       "           id       label                                          statement  \\\n",
       "0  11972.json        true  Building a wall on the U.S.-Mexico border will...   \n",
       "1  11685.json       false  Wisconsin is on pace to double the number of l...   \n",
       "2  11096.json       false  Says John McCain has done nothing to help the ...   \n",
       "3   5209.json   half-true  Suzanne Bonamici supports a plan that will cut...   \n",
       "4   9524.json  pants-fire  When asked by a reporter whether hes at the ce...   \n",
       "\n",
       "                                             subject  \\\n",
       "0                                        immigration   \n",
       "1                                               jobs   \n",
       "2                    military,veterans,voting-record   \n",
       "3  medicare,message-machine-2012,campaign-adverti...   \n",
       "4  campaign-finance,legal-issues,campaign-adverti...   \n",
       "\n",
       "                            speaker             job_title state_info  \\\n",
       "0                        rick-perry              Governor      Texas   \n",
       "1                 katrina-shankland  State representative  Wisconsin   \n",
       "2                      donald-trump       President-Elect   New York   \n",
       "3                     rob-cornilles            consultant     Oregon   \n",
       "4  state-democratic-party-wisconsin                   NaN  Wisconsin   \n",
       "\n",
       "  party_affiliation  barely_true_counts  false_counts  half_true_counts  \\\n",
       "0        republican                  30            30                42   \n",
       "1          democrat                   2             1                 0   \n",
       "2        republican                  63           114                51   \n",
       "3        republican                   1             1                 3   \n",
       "4          democrat                   5             7                 2   \n",
       "\n",
       "   mostly_true_counts  pants_on_fire_counts                       context  \\\n",
       "0                  23                    18               Radio interview   \n",
       "1                   0                     0             a news conference   \n",
       "2                  37                    61  comments on ABC's This Week.   \n",
       "3                   1                     1                  a radio show   \n",
       "4                   2                     7                   a web video   \n",
       "\n",
       "                                     statement_clean  \n",
       "0  building wall usmexico border take literally y...  \n",
       "1          wisconsin pace double number layoffs year  \n",
       "2            says john mccain done nothing help vets  \n",
       "3  suzanne bonamici supports plan cut choice medi...  \n",
       "4  asked reporter whether hes center criminal sch...  "
      ]
     },
     "execution_count": 266,
     "metadata": {},
     "output_type": "execute_result"
    }
   ],
   "source": [
    "df_test.head()"
   ]
  },
  {
   "cell_type": "code",
   "execution_count": 267,
   "id": "f9dfea0c",
   "metadata": {},
   "outputs": [],
   "source": [
    "# encode the label\n",
    "encoder_ = preprocessing.LabelEncoder()\n",
    "df_train['label_enc'] = encoder_.fit_transform(df_train['label'])\n",
    "df_test['label_enc'] = encoder_.transform(df_test['label'])\n",
    "df_valid['label_enc'] = encoder_.transform(df_valid['label'])"
   ]
  },
  {
   "cell_type": "code",
   "execution_count": 268,
   "id": "a7ec2ec9",
   "metadata": {},
   "outputs": [
    {
     "data": {
      "text/plain": [
       "['barely-true', 'false', 'half-true', 'mostly-true', 'pants-fire', 'true']"
      ]
     },
     "execution_count": 268,
     "metadata": {},
     "output_type": "execute_result"
    }
   ],
   "source": [
    "list(encoder_.classes_)"
   ]
  },
  {
   "cell_type": "code",
   "execution_count": 269,
   "id": "cef50145",
   "metadata": {},
   "outputs": [],
   "source": [
    "def mapping_label(s):\n",
    "    label_mapping = {\"pants-fire\": 0, \"false\": 0, \"barely-true\": 0, \"half-true\": 0, \"mostly-true\": 1, \"true\": 1}\n",
    "    return label_mapping.get(s.lower(), -1)\n",
    "    \n",
    "df_train['integer_label'] = df_train.label.apply(mapping_label)\n",
    "df_test['integer_label'] = df_test.label.apply(mapping_label)\n",
    "df_valid['integer_label'] = df_valid.label.apply(mapping_label)"
   ]
  },
  {
   "cell_type": "code",
   "execution_count": 271,
   "id": "8ac26864",
   "metadata": {},
   "outputs": [
    {
     "data": {
      "text/html": [
       "<div>\n",
       "<style scoped>\n",
       "    .dataframe tbody tr th:only-of-type {\n",
       "        vertical-align: middle;\n",
       "    }\n",
       "\n",
       "    .dataframe tbody tr th {\n",
       "        vertical-align: top;\n",
       "    }\n",
       "\n",
       "    .dataframe thead th {\n",
       "        text-align: right;\n",
       "    }\n",
       "</style>\n",
       "<table border=\"1\" class=\"dataframe\">\n",
       "  <thead>\n",
       "    <tr style=\"text-align: right;\">\n",
       "      <th></th>\n",
       "      <th>id</th>\n",
       "      <th>label</th>\n",
       "      <th>statement</th>\n",
       "      <th>subject</th>\n",
       "      <th>speaker</th>\n",
       "      <th>job_title</th>\n",
       "      <th>state_info</th>\n",
       "      <th>party_affiliation</th>\n",
       "      <th>barely_true_counts</th>\n",
       "      <th>false_counts</th>\n",
       "      <th>half_true_counts</th>\n",
       "      <th>mostly_true_counts</th>\n",
       "      <th>pants_on_fire_counts</th>\n",
       "      <th>context</th>\n",
       "      <th>statement_clean</th>\n",
       "      <th>label_enc</th>\n",
       "      <th>integer_label</th>\n",
       "    </tr>\n",
       "  </thead>\n",
       "  <tbody>\n",
       "    <tr>\n",
       "      <th>0</th>\n",
       "      <td>11972.json</td>\n",
       "      <td>true</td>\n",
       "      <td>Building a wall on the U.S.-Mexico border will...</td>\n",
       "      <td>immigration</td>\n",
       "      <td>rick-perry</td>\n",
       "      <td>Governor</td>\n",
       "      <td>Texas</td>\n",
       "      <td>republican</td>\n",
       "      <td>30</td>\n",
       "      <td>30</td>\n",
       "      <td>42</td>\n",
       "      <td>23</td>\n",
       "      <td>18</td>\n",
       "      <td>Radio interview</td>\n",
       "      <td>building wall usmexico border take literally y...</td>\n",
       "      <td>5</td>\n",
       "      <td>1</td>\n",
       "    </tr>\n",
       "    <tr>\n",
       "      <th>1</th>\n",
       "      <td>11685.json</td>\n",
       "      <td>false</td>\n",
       "      <td>Wisconsin is on pace to double the number of l...</td>\n",
       "      <td>jobs</td>\n",
       "      <td>katrina-shankland</td>\n",
       "      <td>State representative</td>\n",
       "      <td>Wisconsin</td>\n",
       "      <td>democrat</td>\n",
       "      <td>2</td>\n",
       "      <td>1</td>\n",
       "      <td>0</td>\n",
       "      <td>0</td>\n",
       "      <td>0</td>\n",
       "      <td>a news conference</td>\n",
       "      <td>wisconsin pace double number layoffs year</td>\n",
       "      <td>1</td>\n",
       "      <td>0</td>\n",
       "    </tr>\n",
       "    <tr>\n",
       "      <th>2</th>\n",
       "      <td>11096.json</td>\n",
       "      <td>false</td>\n",
       "      <td>Says John McCain has done nothing to help the ...</td>\n",
       "      <td>military,veterans,voting-record</td>\n",
       "      <td>donald-trump</td>\n",
       "      <td>President-Elect</td>\n",
       "      <td>New York</td>\n",
       "      <td>republican</td>\n",
       "      <td>63</td>\n",
       "      <td>114</td>\n",
       "      <td>51</td>\n",
       "      <td>37</td>\n",
       "      <td>61</td>\n",
       "      <td>comments on ABC's This Week.</td>\n",
       "      <td>says john mccain done nothing help vets</td>\n",
       "      <td>1</td>\n",
       "      <td>0</td>\n",
       "    </tr>\n",
       "    <tr>\n",
       "      <th>3</th>\n",
       "      <td>5209.json</td>\n",
       "      <td>half-true</td>\n",
       "      <td>Suzanne Bonamici supports a plan that will cut...</td>\n",
       "      <td>medicare,message-machine-2012,campaign-adverti...</td>\n",
       "      <td>rob-cornilles</td>\n",
       "      <td>consultant</td>\n",
       "      <td>Oregon</td>\n",
       "      <td>republican</td>\n",
       "      <td>1</td>\n",
       "      <td>1</td>\n",
       "      <td>3</td>\n",
       "      <td>1</td>\n",
       "      <td>1</td>\n",
       "      <td>a radio show</td>\n",
       "      <td>suzanne bonamici supports plan cut choice medi...</td>\n",
       "      <td>2</td>\n",
       "      <td>0</td>\n",
       "    </tr>\n",
       "    <tr>\n",
       "      <th>4</th>\n",
       "      <td>9524.json</td>\n",
       "      <td>pants-fire</td>\n",
       "      <td>When asked by a reporter whether hes at the ce...</td>\n",
       "      <td>campaign-finance,legal-issues,campaign-adverti...</td>\n",
       "      <td>state-democratic-party-wisconsin</td>\n",
       "      <td>NaN</td>\n",
       "      <td>Wisconsin</td>\n",
       "      <td>democrat</td>\n",
       "      <td>5</td>\n",
       "      <td>7</td>\n",
       "      <td>2</td>\n",
       "      <td>2</td>\n",
       "      <td>7</td>\n",
       "      <td>a web video</td>\n",
       "      <td>asked reporter whether hes center criminal sch...</td>\n",
       "      <td>4</td>\n",
       "      <td>0</td>\n",
       "    </tr>\n",
       "  </tbody>\n",
       "</table>\n",
       "</div>"
      ],
      "text/plain": [
       "           id       label                                          statement  \\\n",
       "0  11972.json        true  Building a wall on the U.S.-Mexico border will...   \n",
       "1  11685.json       false  Wisconsin is on pace to double the number of l...   \n",
       "2  11096.json       false  Says John McCain has done nothing to help the ...   \n",
       "3   5209.json   half-true  Suzanne Bonamici supports a plan that will cut...   \n",
       "4   9524.json  pants-fire  When asked by a reporter whether hes at the ce...   \n",
       "\n",
       "                                             subject  \\\n",
       "0                                        immigration   \n",
       "1                                               jobs   \n",
       "2                    military,veterans,voting-record   \n",
       "3  medicare,message-machine-2012,campaign-adverti...   \n",
       "4  campaign-finance,legal-issues,campaign-adverti...   \n",
       "\n",
       "                            speaker             job_title state_info  \\\n",
       "0                        rick-perry              Governor      Texas   \n",
       "1                 katrina-shankland  State representative  Wisconsin   \n",
       "2                      donald-trump       President-Elect   New York   \n",
       "3                     rob-cornilles            consultant     Oregon   \n",
       "4  state-democratic-party-wisconsin                   NaN  Wisconsin   \n",
       "\n",
       "  party_affiliation  barely_true_counts  false_counts  half_true_counts  \\\n",
       "0        republican                  30            30                42   \n",
       "1          democrat                   2             1                 0   \n",
       "2        republican                  63           114                51   \n",
       "3        republican                   1             1                 3   \n",
       "4          democrat                   5             7                 2   \n",
       "\n",
       "   mostly_true_counts  pants_on_fire_counts                       context  \\\n",
       "0                  23                    18               Radio interview   \n",
       "1                   0                     0             a news conference   \n",
       "2                  37                    61  comments on ABC's This Week.   \n",
       "3                   1                     1                  a radio show   \n",
       "4                   2                     7                   a web video   \n",
       "\n",
       "                                     statement_clean  label_enc  integer_label  \n",
       "0  building wall usmexico border take literally y...          5              1  \n",
       "1          wisconsin pace double number layoffs year          1              0  \n",
       "2            says john mccain done nothing help vets          1              0  \n",
       "3  suzanne bonamici supports plan cut choice medi...          2              0  \n",
       "4  asked reporter whether hes center criminal sch...          4              0  "
      ]
     },
     "execution_count": 271,
     "metadata": {},
     "output_type": "execute_result"
    }
   ],
   "source": [
    "df_test.head()"
   ]
  },
  {
   "cell_type": "markdown",
   "id": "99e676ef",
   "metadata": {},
   "source": [
    "Load GloVe vectors, trying both Wikipedia/Gigaword and the Twitter vectors"
   ]
  },
  {
   "cell_type": "code",
   "execution_count": 272,
   "id": "edd82964",
   "metadata": {},
   "outputs": [
    {
     "name": "stderr",
     "output_type": "stream",
     "text": [
      "400001it [00:13, 29755.81it/s]"
     ]
    },
    {
     "name": "stdout",
     "output_type": "stream",
     "text": [
      "Found 400001 word vectors.\n"
     ]
    },
    {
     "name": "stderr",
     "output_type": "stream",
     "text": [
      "\n"
     ]
    }
   ],
   "source": [
    "embeddings_glove6b = {}\n",
    "f = open('glove6b/glove.6B.100d.txt', encoding='utf8')\n",
    "for line in tqdm(f):\n",
    "    values = line.split()\n",
    "    word = values[0]\n",
    "    coefs = np.asarray(values[1:], dtype='float32')\n",
    "    embeddings_glove6b[word] = coefs\n",
    "f.close()\n",
    "print('Found %s word vectors.'% len(embeddings_glove6b))"
   ]
  },
  {
   "cell_type": "code",
   "execution_count": 273,
   "id": "ffbc382d",
   "metadata": {},
   "outputs": [
    {
     "data": {
      "text/plain": [
       "400001"
      ]
     },
     "execution_count": 273,
     "metadata": {},
     "output_type": "execute_result"
    }
   ],
   "source": [
    "len(embeddings_glove6b)"
   ]
  },
  {
   "cell_type": "code",
   "execution_count": 274,
   "id": "8295411a",
   "metadata": {},
   "outputs": [
    {
     "name": "stderr",
     "output_type": "stream",
     "text": [
      "1193517it [00:39, 30402.00it/s]"
     ]
    },
    {
     "name": "stdout",
     "output_type": "stream",
     "text": [
      "Found 1193515 word vectors.\n"
     ]
    },
    {
     "name": "stderr",
     "output_type": "stream",
     "text": [
      "\n"
     ]
    }
   ],
   "source": [
    "embeddings_glovetwt = {}\n",
    "f = open('glovetwitter/glove.twitter.27B.100d.txt',encoding='utf8')\n",
    "for line in tqdm(f):\n",
    "    values = line.split()\n",
    "    word = values[0]\n",
    "    coefs = np.asarray(values[1:], dtype='float32')\n",
    "    embeddings_glovetwt[word] = coefs\n",
    "f.close()\n",
    "print('Found %s word vectors.' % len(embeddings_glovetwt))"
   ]
  },
  {
   "cell_type": "code",
   "execution_count": 275,
   "id": "f7aca63c",
   "metadata": {},
   "outputs": [],
   "source": [
    "VOCABULARY_SIZE = 10000\n",
    "MAX_LENGTH = 60\n",
    "\n",
    "tokenizer = Tokenizer(num_words=VOCABULARY_SIZE)\n",
    "tokenizer.fit_on_texts(list(df_train['statement_clean']) \n",
    "                       + list(df_valid['statement_clean']) \n",
    "                       + list(df_test['statement_clean']))\n"
   ]
  },
  {
   "cell_type": "code",
   "execution_count": 276,
   "id": "58b597ec",
   "metadata": {},
   "outputs": [],
   "source": [
    "x_train = tokenizer.texts_to_sequences(df_train['statement_clean'])\n",
    "x_test = tokenizer.texts_to_sequences(df_test['statement_clean'])\n",
    "x_valid = tokenizer.texts_to_sequences(df_valid['statement_clean'])\n",
    "\n",
    "# pad\n",
    "\n",
    "xtrain_padding = sequence.pad_sequences(x_train, maxlen=MAX_LENGTH)\n",
    "xtest_padding = sequence.pad_sequences(x_test, maxlen=MAX_LENGTH)\n",
    "xvalid_padding = sequence.pad_sequences(x_valid, maxlen=MAX_LENGTH)\n",
    "\n",
    "word_index = tokenizer.word_index"
   ]
  },
  {
   "cell_type": "code",
   "execution_count": 277,
   "id": "3712666d",
   "metadata": {},
   "outputs": [
    {
     "name": "stderr",
     "output_type": "stream",
     "text": [
      "100%|██████████| 14590/14590 [00:00<00:00, 388785.87it/s]\n"
     ]
    }
   ],
   "source": [
    "embedding_matrix_6b = np.zeros((len(word_index) + 1, 100))\n",
    "for word, i in tqdm(word_index.items()):\n",
    "    embedding_vector = embeddings_glove6b.get(word)\n",
    "    if embedding_vector is not None:\n",
    "        embedding_matrix_6b[i] = embedding_vector"
   ]
  },
  {
   "cell_type": "code",
   "execution_count": 278,
   "id": "2b7eb347",
   "metadata": {},
   "outputs": [
    {
     "name": "stderr",
     "output_type": "stream",
     "text": [
      "100%|██████████| 14590/14590 [00:00<00:00, 607864.11it/s]\n"
     ]
    }
   ],
   "source": [
    "embedding_matrix_twt = np.zeros((len(word_index) + 1, 100))\n",
    "for word, i in tqdm(word_index.items()):\n",
    "    embedding_vector = embeddings_glovetwt.get(word)\n",
    "    if embedding_vector is not None:\n",
    "        embedding_matrix_twt[i] = embedding_vector"
   ]
  },
  {
   "cell_type": "code",
   "execution_count": 279,
   "id": "357cf44e",
   "metadata": {},
   "outputs": [],
   "source": [
    "ytrain_encode = np_utils.to_categorical(df_train['label_enc'])\n",
    "ytest_encode = np_utils.to_categorical(df_test['label_enc'])\n",
    "yvalid_encode = np_utils.to_categorical(df_valid['label_enc'])\n",
    "\n",
    "ytrain_encode2 = np_utils.to_categorical(df_train['integer_label'])\n",
    "ytest_encode2 = np_utils.to_categorical(df_test['integer_label'])\n",
    "yvalid_encode2 = np_utils.to_categorical(df_valid['integer_label'])\n"
   ]
  },
  {
   "cell_type": "code",
   "execution_count": 280,
   "id": "e02fe436",
   "metadata": {},
   "outputs": [],
   "source": [
    "model_glove6b = Sequential()\n",
    "\n",
    "model_glove6b.add(Embedding(len(word_index) + 1, 100, weights=[embedding_matrix_6b], input_length=MAX_LENGTH, trainable=False))\n",
    "model_glove6b.add(SpatialDropout1D(0.3))\n",
    "model_glove6b.add(Bidirectional(LSTM(64, dropout=0.3, recurrent_dropout=0.3)))\n",
    "model_glove6b.add(Dense(1024, activation='relu'))\n",
    "model_glove6b.add(Dropout(0.8))\n",
    "model_glove6b.add(Dense(1024, activation='relu'))\n",
    "model_glove6b.add(Dropout(0.8))\n",
    "model_glove6b.add(Dense(2))\n",
    "model_glove6b.add(Activation('softmax'))\n",
    "model_glove6b.compile(loss='binary_crossentropy', optimizer='adam', metrics=['accuracy'])"
   ]
  },
  {
   "cell_type": "code",
   "execution_count": 296,
   "id": "4172ff97",
   "metadata": {},
   "outputs": [],
   "source": [
    "model_twt = Sequential()\n",
    "\n",
    "model_twt.add(Embedding(len(word_index) + 1, 100, weights=[embedding_matrix_twt], input_length=MAX_LENGTH, trainable=False))\n",
    "model_twt.add(SpatialDropout1D(0.3))\n",
    "model_twt.add(Bidirectional(LSTM(64, dropout=0.3, recurrent_dropout=0.3)))\n",
    "model_twt.add(Dense(1024, activation='relu'))\n",
    "model_twt.add(Dropout(0.5))\n",
    "model_twt.add(Dense(1024, activation='relu'))\n",
    "model_twt.add(Dense(2))\n",
    "model_twt.add(Activation('softmax'))\n",
    "model_twt.compile(loss='binary_crossentropy', optimizer='adam', metrics=['accuracy'])"
   ]
  },
  {
   "cell_type": "code",
   "execution_count": 282,
   "id": "c6434d28",
   "metadata": {},
   "outputs": [
    {
     "name": "stdout",
     "output_type": "stream",
     "text": [
      "Epoch 1/10\n",
      "80/80 [==============================] - 18s 136ms/step - loss: 0.6573 - accuracy: 0.6426 - val_loss: 0.6361 - val_accuracy: 0.6752\n",
      "Epoch 2/10\n",
      "80/80 [==============================] - 10s 123ms/step - loss: 0.6508 - accuracy: 0.6430 - val_loss: 0.6183 - val_accuracy: 0.6737\n",
      "Epoch 3/10\n",
      "80/80 [==============================] - 10s 119ms/step - loss: 0.6469 - accuracy: 0.6435 - val_loss: 0.6181 - val_accuracy: 0.6721\n",
      "Epoch 4/10\n",
      "80/80 [==============================] - 11s 133ms/step - loss: 0.6421 - accuracy: 0.6414 - val_loss: 0.6200 - val_accuracy: 0.6807\n",
      "Epoch 5/10\n",
      "80/80 [==============================] - 10s 121ms/step - loss: 0.6393 - accuracy: 0.6441 - val_loss: 0.6225 - val_accuracy: 0.6752\n",
      "Epoch 6/10\n",
      "80/80 [==============================] - 10s 122ms/step - loss: 0.6381 - accuracy: 0.6460 - val_loss: 0.6087 - val_accuracy: 0.6667\n",
      "Epoch 7/10\n",
      "80/80 [==============================] - 10s 128ms/step - loss: 0.6368 - accuracy: 0.6470 - val_loss: 0.6177 - val_accuracy: 0.6737\n",
      "Epoch 8/10\n",
      "80/80 [==============================] - 12s 149ms/step - loss: 0.6358 - accuracy: 0.6455 - val_loss: 0.6141 - val_accuracy: 0.6651\n",
      "Epoch 9/10\n",
      "80/80 [==============================] - 12s 149ms/step - loss: 0.6325 - accuracy: 0.6451 - val_loss: 0.6211 - val_accuracy: 0.6745\n",
      "Epoch 10/10\n",
      "80/80 [==============================] - 12s 147ms/step - loss: 0.6315 - accuracy: 0.6467 - val_loss: 0.6030 - val_accuracy: 0.6815\n"
     ]
    }
   ],
   "source": [
    "history_glove6b = model_glove6b.fit(xtrain_padding, y=ytrain_encode2, batch_size=128, epochs=10, verbose=1, \n",
    "                        validation_data=(xvalid_padding, yvalid_encode2))"
   ]
  },
  {
   "cell_type": "code",
   "execution_count": 297,
   "id": "a8768848",
   "metadata": {},
   "outputs": [
    {
     "name": "stdout",
     "output_type": "stream",
     "text": [
      "Epoch 1/10\n",
      "80/80 [==============================] - 22s 185ms/step - loss: 0.6506 - accuracy: 0.6447 - val_loss: 0.6509 - val_accuracy: 0.6690\n",
      "Epoch 2/10\n",
      "80/80 [==============================] - 15s 189ms/step - loss: 0.6462 - accuracy: 0.6437 - val_loss: 0.6102 - val_accuracy: 0.6729\n",
      "Epoch 3/10\n",
      "80/80 [==============================] - 16s 200ms/step - loss: 0.6385 - accuracy: 0.6433 - val_loss: 0.6109 - val_accuracy: 0.6791\n",
      "Epoch 4/10\n",
      "80/80 [==============================] - 18s 223ms/step - loss: 0.6350 - accuracy: 0.6448 - val_loss: 0.6085 - val_accuracy: 0.6807\n",
      "Epoch 5/10\n",
      "80/80 [==============================] - 18s 223ms/step - loss: 0.6363 - accuracy: 0.6479 - val_loss: 0.6141 - val_accuracy: 0.6776\n",
      "Epoch 6/10\n",
      "80/80 [==============================] - 18s 220ms/step - loss: 0.6308 - accuracy: 0.6521 - val_loss: 0.6079 - val_accuracy: 0.6776\n",
      "Epoch 7/10\n",
      "80/80 [==============================] - 17s 211ms/step - loss: 0.6268 - accuracy: 0.6527 - val_loss: 0.6351 - val_accuracy: 0.6246\n",
      "Epoch 8/10\n",
      "80/80 [==============================] - 17s 208ms/step - loss: 0.6279 - accuracy: 0.6523 - val_loss: 0.6114 - val_accuracy: 0.6651\n",
      "Epoch 9/10\n",
      "80/80 [==============================] - 16s 196ms/step - loss: 0.6245 - accuracy: 0.6564 - val_loss: 0.6108 - val_accuracy: 0.6737\n",
      "Epoch 10/10\n",
      "80/80 [==============================] - 16s 206ms/step - loss: 0.6216 - accuracy: 0.6611 - val_loss: 0.6116 - val_accuracy: 0.6706\n"
     ]
    }
   ],
   "source": [
    "history_twt = model_twt.fit(xtrain_padding, y=ytrain_encode2, batch_size=128, epochs=10, verbose=1, \n",
    "                            validation_data=(xvalid_padding, yvalid_encode2))"
   ]
  },
  {
   "cell_type": "code",
   "execution_count": 309,
   "id": "9db9e72e",
   "metadata": {},
   "outputs": [
    {
     "name": "stdout",
     "output_type": "stream",
     "text": [
      "40/40 [==============================] - 0s 12ms/step - loss: 0.0000e+00 - accuracy: 0.0000e+00\n"
     ]
    }
   ],
   "source": [
    "loss, accuracy = model_twt.evaluate(xtest_padding)"
   ]
  },
  {
   "cell_type": "code",
   "execution_count": 311,
   "id": "701d0884",
   "metadata": {},
   "outputs": [
    {
     "data": {
      "image/png": "[encoded data removed]",
      "text/plain": [
       "<Figure size 432x288 with 1 Axes>"
      ]
     },
     "metadata": {
      "needs_background": "light"
     },
     "output_type": "display_data"
    },
    {
     "data": {
      "image/png": "[encoded data removed]",
      "text/plain": [
       "<Figure size 432x288 with 1 Axes>"
      ]
     },
     "metadata": {
      "needs_background": "light"
     },
     "output_type": "display_data"
    }
   ],
   "source": [
    "def graph_plots(history, string):\n",
    "    plt.plot(history.history[string])\n",
    "    plt.plot(history.history['val_'+string])\n",
    "    plt.xlabel(\"Epochs\")\n",
    "    plt.ylabel(string)\n",
    "    plt.legend([string, 'val_'+string])\n",
    "    plt.show()\n",
    "\n",
    "graph_plots(history_glove6b, \"accuracy\")\n",
    "graph_plots(history_glove6b, \"loss\")"
   ]
  }
 ],
 "metadata": {
  "kernelspec": {
   "display_name": "Python 3 (ipykernel)",
   "language": "python",
   "name": "python3"
  },
  "language_info": {
   "codemirror_mode": {
    "name": "ipython",
    "version": 3
   },
   "file_extension": ".py",
   "mimetype": "text/x-python",
   "name": "python",
   "nbconvert_exporter": "python",
   "pygments_lexer": "ipython3",
   "version": "3.11.5"
  }
 },
 "nbformat": 4,
 "nbformat_minor": 5
}
