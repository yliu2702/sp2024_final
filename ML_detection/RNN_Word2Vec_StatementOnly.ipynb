{
 "cells": [
  {
   "cell_type": "markdown",
   "id": "ca472b19",
   "metadata": {},
   "source": [
    "## Cleaning and Preprocessig Combined"
   ]
  },
  {
   "cell_type": "markdown",
   "id": "eee111d5",
   "metadata": {},
   "source": [
    "#### Import data"
   ]
  },
  {
   "cell_type": "code",
   "execution_count": 18,
   "id": "2f553e88",
   "metadata": {
    "ExecuteTime": {
     "end_time": "2021-12-12T05:13:08.760523Z",
     "start_time": "2021-12-12T05:13:07.544122Z"
    },
    "scrolled": true
   },
   "outputs": [],
   "source": [
    "import numpy as np\n",
    "import pandas as pd\n",
    "import seaborn as sn\n",
    "import matplotlib.pyplot as plt\n",
    "import sklearn\n",
    "import nltk\n",
    "import re\n",
    "from bs4 import BeautifulSoup\n",
    "from nltk.corpus import stopwords\n",
    "from nltk.stem import PorterStemmer\n",
    "from nltk.tokenize import word_tokenize\n",
    "import gensim\n",
    "from tensorflow.keras.preprocessing.text import Tokenizer\n",
    "from tensorflow.keras.preprocessing.sequence import pad_sequences\n",
    "from tensorflow.keras.models import Sequential\n",
    "from tensorflow.keras.layers import Dense, Embedding, LSTM, GRU, SimpleRNN\n",
    "from sklearn.model_selection import train_test_split\n",
    "from sklearn.preprocessing import StandardScaler\n",
    "from sklearn.metrics import accuracy_score\n",
    "from tensorflow.keras.optimizers import Adam\n",
    "import tensorflow as tf\n",
    "from xgboost import XGBClassifier\n",
    "from sklearn.ensemble import RandomForestClassifier\n",
    "from sklearn.model_selection import cross_val_score\n",
    "from sklearn.model_selection import cross_validate\n",
    "from sklearn.experimental import enable_hist_gradient_boosting \n",
    "from sklearn.ensemble import HistGradientBoostingClassifier\n",
    "from sklearn.ensemble import GradientBoostingClassifier\n",
    "import warnings"
   ]
  },
  {
   "cell_type": "code",
   "execution_count": 24,
   "id": "ebcc5cc4",
   "metadata": {},
   "outputs": [],
   "source": [
    "#LIAR = pd.read_csv(\"/content/sample_data/LIAR.csv\", index_col=0)\n",
    "df = pd.read_csv(\"LIAR.csv\", index_col=0)\n",
    "columns = [\"id\",\n",
    "           \"label\",\n",
    "           \"statement\",\n",
    "           \"subject\",\n",
    "           \"speaker\",\n",
    "           \"job_title\",\n",
    "           \"state_info\",\n",
    "           \"party_affiliation\",\n",
    "           \"barely_true_counts\",\n",
    "           \"false_counts\",\n",
    "           \"half_true_counts\",\n",
    "           \"mostly_true_counts\",\n",
    "           \"pants_on_fire_counts\",\n",
    "           \"context\",\n",
    "           \"justification\"]\n",
    "df.columns = columns"
   ]
  },
  {
   "cell_type": "markdown",
   "id": "d70f842d",
   "metadata": {},
   "source": [
    "#### Deal with Missing Values"
   ]
  },
  {
   "cell_type": "code",
   "execution_count": 25,
   "id": "820b3002",
   "metadata": {
    "ExecuteTime": {
     "end_time": "2021-12-12T05:13:08.798386Z",
     "start_time": "2021-12-12T05:13:08.763028Z"
    }
   },
   "outputs": [],
   "source": [
    "# Define columns with missing values\n",
    "columns_with_missing = ['subject', 'party_affiliation', 'barely_true_counts', 'false_counts', 'half_true_counts', \n",
    "                        'mostly_true_counts', 'pants_on_fire_counts', 'context', 'justification']\n",
    "\n",
    "# Drop rows with missing values in specified columns\n",
    "df.dropna(subset=columns_with_missing, inplace=True)\n",
    "\n",
    "# Fill missing values in 'job_title' column\n",
    "df['job_title'].fillna(pd.Series(np.random.choice(df['job_title'].dropna(), size=len(df))), inplace=True)\n",
    "\n",
    "# Fill missing values in 'state_info' column\n",
    "df['state_info'].fillna(pd.Series(np.random.choice(df['state_info'].dropna(), size=len(df))), inplace=True)\n"
   ]
  },
  {
   "cell_type": "markdown",
   "id": "a2f8088b",
   "metadata": {
    "ExecuteTime": {
     "end_time": "2021-12-12T02:55:19.128489Z",
     "start_time": "2021-12-12T02:55:19.124927Z"
    }
   },
   "source": [
    "#### Map to binary outcome"
   ]
  },
  {
   "cell_type": "code",
   "execution_count": 26,
   "id": "5305613b",
   "metadata": {},
   "outputs": [
    {
     "data": {
      "text/plain": [
       "integer_label\n",
       "1    7017\n",
       "0    5548\n",
       "Name: count, dtype: int64"
      ]
     },
     "execution_count": 26,
     "metadata": {},
     "output_type": "execute_result"
    }
   ],
   "source": [
    "# Combine 'context' and 'statement' columns\n",
    "df['statement'] = df['context'] + ' ' + df['statement']\n",
    "# Map labels to integers\n",
    "label_mapping = {\"pants-fire\": 0, \"FALSE\": 0, \"barely-true\": 0, \"half-true\": 1, \"mostly-true\": 1, \"TRUE\": 1}\n",
    "df['integer_label'] = df['label'].map(label_mapping).fillna(-1)\n",
    "# Split 'subject' column and expand into separate columns\n",
    "df = pd.concat([df, df['subject'].str.split(',', expand=True).iloc[:, :4].add_prefix('subject')], axis=1)\n",
    "# Drop unnecessary columns\n",
    "df.drop(['label', 'subject'], axis=1, inplace=True)\n",
    "df.integer_label.value_counts()"
   ]
  },
  {
   "cell_type": "markdown",
   "id": "8b8329d3",
   "metadata": {},
   "source": [
    "#### Encoding Categorical Variables"
   ]
  },
  {
   "cell_type": "code",
   "execution_count": 7,
   "id": "9dd4d34f",
   "metadata": {
    "ExecuteTime": {
     "end_time": "2021-12-12T05:13:09.116350Z",
     "start_time": "2021-12-12T05:13:08.947894Z"
    }
   },
   "outputs": [],
   "source": [
    "def top_n_encoder(series, n,prefix = None):\n",
    "    '''\n",
    "    series: a pd series\n",
    "    n: number of top frequent categories to be encoded\n",
    "    '''\n",
    "    series = series.copy()\n",
    "    counts = series.value_counts()\n",
    "    mask = series.isin(counts.iloc[:n].index)\n",
    "    series[~mask] = \"other\"\n",
    "    return pd.get_dummies(series,prefix = prefix)\n",
    "\n",
    "encoded_job_title = top_n_encoder(df.job_title.str.lower(),n = 50,prefix = \"job\")\n",
    "encoded_party = top_n_encoder(df.party_affiliation.str.lower(),n = 50,prefix = \"party\")\n",
    "encoded_speaker = top_n_encoder(df.speaker.str.lower(),n = 50,prefix = \"speaker\")\n",
    "encoded_state_info = top_n_encoder(df.state_info.str.lower(),n = 50,prefix = \"state_info\") #added this line\n",
    "# encoded_context = top_n_encoder(df.context.str.lower(), n = 150,prefix = \"context\")\n",
    "encoded_subject1 = top_n_encoder(df.subject1.str.lower(),n = 30, prefix = \"subject1\")\n",
    "encoded_subject2 = top_n_encoder(df.subject2.str.lower(),n = 30,prefix = \"subject2\")\n",
    "encoded_subject3 = top_n_encoder(df.subject3.str.lower(),n = 30,prefix = \"subject3\")\n",
    "encoded_subject4 = top_n_encoder(df.subject4.str.lower(),n = 30,prefix = \"subject4\")\n",
    "\n",
    "#categorical_features = pd.concat([encoded_job_title,encoded_party,encoded_speaker,encoded_context,\n",
    "#                                  encoded_subject1,encoded_subject2,encoded_subject3,encoded_subject4],axis = 1)\n",
    "# categorical_features = pd.concat([encoded_job_title,encoded_party,encoded_speaker,encoded_context],axis = 1)\n",
    "categorical_features = pd.concat([encoded_job_title,encoded_party,encoded_speaker,\n",
    "                                  encoded_subject1,encoded_subject2,encoded_subject3,encoded_subject4],axis = 1)\n",
    "\n",
    "df = pd.concat([df.reset_index(),categorical_features.reset_index()],axis=1) # concat encoded cols\n",
    "df = df.drop(columns=['job_title','party_affiliation','speaker','state_info','index',\n",
    "                      'subject1','subject2','subject3','subject4']) # drop oringinal cols\n",
    "#df = df.drop(columns=['job_title','party_affiliation','speaker','state_info','context','index',\n",
    "#                      'subject1','subject2','subject3','subject4']) # drop oringinal cols"
   ]
  },
  {
   "cell_type": "markdown",
   "id": "1c9ff01b",
   "metadata": {},
   "source": [
    "#### Cleaning the Statements"
   ]
  },
  {
   "cell_type": "code",
   "execution_count": 14,
   "id": "8ea4b30a",
   "metadata": {},
   "outputs": [
    {
     "name": "stderr",
     "output_type": "stream",
     "text": [
      "[nltk_data] Downloading package stopwords to\n",
      "[nltk_data]     /Users/savannah/nltk_data...\n",
      "[nltk_data]   Unzipping corpora/stopwords.zip.\n"
     ]
    },
    {
     "data": {
      "text/plain": [
       "True"
      ]
     },
     "execution_count": 14,
     "metadata": {},
     "output_type": "execute_result"
    }
   ],
   "source": [
    "import nltk\n",
    "nltk.download('stopwords')"
   ]
  },
  {
   "cell_type": "code",
   "execution_count": 15,
   "id": "8d388877",
   "metadata": {
    "ExecuteTime": {
     "end_time": "2021-12-12T05:13:11.910029Z",
     "start_time": "2021-12-12T05:13:09.118245Z"
    }
   },
   "outputs": [
    {
     "name": "stderr",
     "output_type": "stream",
     "text": [
      "/var/folders/4w/xwbqdm5n0k372fhky2my_plh0000gn/T/ipykernel_60708/199755370.py:6: MarkupResemblesLocatorWarning: The input looks more like a filename than markup. You may want to open this file and pass the filehandle into Beautiful Soup.\n",
      "  text = BeautifulSoup(text, \"lxml\").text # HTML decoding\n"
     ]
    }
   ],
   "source": [
    "REPLACE_BY_SPACE_RE = re.compile('[/(){}\\[\\]\\|@,;]')\n",
    "BAD_SYMBOLS_RE = re.compile('[^0-9a-z #+_]')\n",
    "STOPWORDS = set(stopwords.words('english'))\n",
    "\n",
    "def clean_text(text):\n",
    "    text = BeautifulSoup(text, \"lxml\").text # HTML decoding\n",
    "    text = text.lower() # lowercase text\n",
    "    text = REPLACE_BY_SPACE_RE.sub(' ', text) # replace REPLACE_BY_SPACE_RE symbols by space in text\n",
    "    text = BAD_SYMBOLS_RE.sub('', text) # delete symbols which are in BAD_SYMBOLS_RE from text\n",
    "    text = ' '.join(word for word in text.split() if word not in STOPWORDS) # delete stopwors from text\n",
    "    return text\n",
    "\n",
    "stemmer = PorterStemmer()\n",
    "def stem_sentence(sentence):\n",
    "    token_words = word_tokenize(sentence)\n",
    "    return \" \".join(stemmer.stem(word) for word in token_words)\n",
    "\n",
    "df['statement_clean'] = df.statement.apply(clean_text)\n",
    "df = df.drop(columns=['statement'])\n",
    "df['statement'] = df['statement_clean'].apply(stem_sentence)\n",
    "df = df.drop(columns=['statement_clean'])"
   ]
  },
  {
   "cell_type": "markdown",
   "id": "28532bdc",
   "metadata": {},
   "source": [
    "#### word2vec embedding"
   ]
  },
  {
   "cell_type": "code",
   "execution_count": 10,
   "id": "cb1a719f",
   "metadata": {},
   "outputs": [],
   "source": [
    "# Extract features and labels\n",
    "X = [[vocab for vocab in data['statement'].split() if len(vocab) > 1] for _, data in df.iterrows()]\n",
    "y = df['integer_label'].values"
   ]
  },
  {
   "cell_type": "code",
   "execution_count": 11,
   "id": "f99a94dd",
   "metadata": {},
   "outputs": [],
   "source": [
    "w2v_model = gensim.models.Word2Vec(sentences=X, vector_size=10, window=5, min_count=1)"
   ]
  },
  {
   "cell_type": "code",
   "execution_count": 12,
   "id": "1ad00769",
   "metadata": {},
   "outputs": [],
   "source": [
    "tokenizer = Tokenizer()\n",
    "tokenizer.fit_on_texts(X)\n",
    "\n",
    "X = tokenizer.texts_to_sequences(X)\n",
    "X = pad_sequences(X, maxlen=20)\n",
    "vocab_size = len(tokenizer.word_index) + 1\n",
    "embedding = np.zeros((vocab_size, 10))\n",
    "\n",
    "for word, i in tokenizer.word_index.items():\n",
    "    embedding[i] = w2v_model.wv[word]"
   ]
  },
  {
   "cell_type": "markdown",
   "id": "f434c0e7",
   "metadata": {},
   "source": [
    "####  Deep learning (LSTM, RNN)"
   ]
  },
  {
   "cell_type": "code",
   "execution_count": 13,
   "id": "21c8b4bc",
   "metadata": {},
   "outputs": [
    {
     "name": "stderr",
     "output_type": "stream",
     "text": [
      "2021-12-15 03:56:40.746522: I tensorflow/core/platform/cpu_feature_guard.cc:151] This TensorFlow binary is optimized with oneAPI Deep Neural Network Library (oneDNN) to use the following CPU instructions in performance-critical operations:  AVX2 FMA\n",
      "To enable them in other operations, rebuild TensorFlow with the appropriate compiler flags.\n"
     ]
    }
   ],
   "source": [
    "model = Sequential()\n",
    "model.add(Embedding(vocab_size, output_dim=10, weights=[embedding], input_length=20, trainable=False))\n",
    "model.add(LSTM(128, return_sequences = True))\n",
    "model.add(LSTM(64))\n",
    "model.add(Dense(32 , activation = 'relu'))\n",
    "model.add(Dense(2, activation='softmax'))\n",
    "loss = tf.keras.losses.CategoricalCrossentropy(from_logits=False)\n",
    "optimizer = Adam(0.0005)\n",
    "model.compile(optimizer, loss, metrics=['accuracy'])"
   ]
  },
  {
   "cell_type": "code",
   "execution_count": 14,
   "id": "537b9b25",
   "metadata": {},
   "outputs": [],
   "source": [
    "model2 = Sequential()\n",
    "model2.add(Embedding(vocab_size, output_dim=10, weights=[embedding], input_length=20, trainable=False))\n",
    "model2.add(GRU(128, return_sequences=True))\n",
    "model2.add(SimpleRNN(64))\n",
    "model2.add(Dense(32 , activation = 'relu'))\n",
    "model2.add(Dense(2, activation='softmax'))\n",
    "loss = tf.keras.losses.CategoricalCrossentropy(from_logits=False)\n",
    "optimizer = Adam(0.0005)\n",
    "model2.compile(optimizer, loss, metrics=['accuracy'])"
   ]
  },
  {
   "cell_type": "code",
   "execution_count": 15,
   "id": "3189a42a",
   "metadata": {},
   "outputs": [
    {
     "name": "stdout",
     "output_type": "stream",
     "text": [
      "Epoch 1/10\n",
      "100/100 [==============================] - 19s 123ms/step - loss: 0.6731 - accuracy: 0.5814 - val_loss: 0.6675 - val_accuracy: 0.5979\n",
      "Epoch 2/10\n",
      "100/100 [==============================] - 18s 178ms/step - loss: 0.6664 - accuracy: 0.5930 - val_loss: 0.6746 - val_accuracy: 0.5893\n",
      "Epoch 3/10\n",
      "100/100 [==============================] - 17s 172ms/step - loss: 0.6664 - accuracy: 0.5900 - val_loss: 0.6657 - val_accuracy: 0.5916\n",
      "Epoch 4/10\n",
      "100/100 [==============================] - 16s 164ms/step - loss: 0.6646 - accuracy: 0.5946 - val_loss: 0.6661 - val_accuracy: 0.5995\n",
      "Epoch 5/10\n",
      "100/100 [==============================] - 15s 150ms/step - loss: 0.6641 - accuracy: 0.5978 - val_loss: 0.6638 - val_accuracy: 0.6090\n",
      "Epoch 6/10\n",
      "100/100 [==============================] - 19s 188ms/step - loss: 0.6621 - accuracy: 0.6017 - val_loss: 0.6685 - val_accuracy: 0.5853\n",
      "Epoch 7/10\n",
      "100/100 [==============================] - 22s 222ms/step - loss: 0.6618 - accuracy: 0.6002 - val_loss: 0.6703 - val_accuracy: 0.5782\n",
      "Epoch 8/10\n",
      "100/100 [==============================] - 18s 183ms/step - loss: 0.6609 - accuracy: 0.6030 - val_loss: 0.6628 - val_accuracy: 0.5995\n",
      "Epoch 9/10\n",
      "100/100 [==============================] - 15s 147ms/step - loss: 0.6601 - accuracy: 0.6057 - val_loss: 0.6650 - val_accuracy: 0.5900\n",
      "Epoch 10/10\n",
      "100/100 [==============================] - 16s 156ms/step - loss: 0.6564 - accuracy: 0.6061 - val_loss: 0.6639 - val_accuracy: 0.6027\n"
     ]
    }
   ],
   "source": [
    "y = tf.keras.utils.to_categorical(y, num_classes=2)\n",
    "X_train, X_test, y_train, y_test = train_test_split(X, y, test_size=0.2, stratify=y) \n",
    "history = model.fit(X_train, y_train, validation_split=0.125, epochs=10, steps_per_epoch=100)"
   ]
  },
  {
   "cell_type": "code",
   "execution_count": 16,
   "id": "f565b795",
   "metadata": {},
   "outputs": [
    {
     "name": "stdout",
     "output_type": "stream",
     "text": [
      "Epoch 1/10\n",
      "100/100 [==============================] - 20s 142ms/step - loss: 0.6835 - accuracy: 0.5578 - val_loss: 0.6729 - val_accuracy: 0.5869\n",
      "Epoch 2/10\n",
      "100/100 [==============================] - 11s 115ms/step - loss: 0.6723 - accuracy: 0.5780 - val_loss: 0.6787 - val_accuracy: 0.5821\n",
      "Epoch 3/10\n",
      "100/100 [==============================] - 10s 99ms/step - loss: 0.6677 - accuracy: 0.5944 - val_loss: 0.6692 - val_accuracy: 0.5837\n",
      "Epoch 4/10\n",
      "100/100 [==============================] - 7s 68ms/step - loss: 0.6642 - accuracy: 0.5967 - val_loss: 0.6699 - val_accuracy: 0.5695\n",
      "Epoch 5/10\n",
      "100/100 [==============================] - 7s 69ms/step - loss: 0.6625 - accuracy: 0.6008 - val_loss: 0.6731 - val_accuracy: 0.5766\n",
      "Epoch 6/10\n",
      "100/100 [==============================] - 9s 92ms/step - loss: 0.6599 - accuracy: 0.6038 - val_loss: 0.6711 - val_accuracy: 0.5845\n",
      "Epoch 7/10\n",
      "100/100 [==============================] - 9s 94ms/step - loss: 0.6569 - accuracy: 0.6134 - val_loss: 0.6747 - val_accuracy: 0.5885\n",
      "Epoch 8/10\n",
      "100/100 [==============================] - 11s 108ms/step - loss: 0.6529 - accuracy: 0.6163 - val_loss: 0.6793 - val_accuracy: 0.5632\n",
      "Epoch 9/10\n",
      "100/100 [==============================] - 11s 107ms/step - loss: 0.6502 - accuracy: 0.6222 - val_loss: 0.6923 - val_accuracy: 0.5632\n",
      "Epoch 10/10\n",
      "100/100 [==============================] - 10s 100ms/step - loss: 0.6467 - accuracy: 0.6302 - val_loss: 0.6810 - val_accuracy: 0.5719\n"
     ]
    }
   ],
   "source": [
    "history2 = model2.fit(X_train, y_train, validation_split=0.125, epochs=10, steps_per_epoch=100)"
   ]
  },
  {
   "cell_type": "code",
   "execution_count": 17,
   "id": "8905c3b7",
   "metadata": {},
   "outputs": [
    {
     "name": "stdout",
     "output_type": "stream",
     "text": [
      "[0 1 0 ... 0 0 1]\n",
      "[0 1 1 ... 1 0 0]\n",
      "accuracy on all data (LSTM): 0.6124012638230648\n",
      "zeros: 3965 nonzeros: 8695\n"
     ]
    }
   ],
   "source": [
    "y_pred = model.predict(X).argmax(axis=-1).astype(int)\n",
    "y = np.argmax(y, axis=1)\n",
    "print(y_pred)\n",
    "print(y)\n",
    "print('accuracy on all data (LSTM):', accuracy_score(y, y_pred))\n",
    "print(f\"zeros: {np.count_nonzero(y_pred==0)} nonzeros: {np.count_nonzero(y_pred)}\")"
   ]
  },
  {
   "cell_type": "code",
   "execution_count": 18,
   "id": "5f9067b2",
   "metadata": {},
   "outputs": [
    {
     "name": "stdout",
     "output_type": "stream",
     "text": [
      "[0 1 0 ... 1 0 1]\n",
      "[0 1 1 ... 1 0 0]\n",
      "accuracy on all data (GRU+RNN): 0.6230647709320695\n",
      "zeros: 3732 nonzeros: 8928\n"
     ]
    }
   ],
   "source": [
    "y_pred2 = model2.predict(X).argmax(axis=-1).astype(int)\n",
    "print(y_pred2)\n",
    "print(y)\n",
    "print('accuracy on all data (GRU+RNN):', accuracy_score(y, y_pred2))\n",
    "print(f\"zeros: {np.count_nonzero(y_pred2==0)} nonzeros: {np.count_nonzero(y_pred2)}\")"
   ]
  },
  {
   "cell_type": "code",
   "execution_count": 19,
   "id": "ba91adc3",
   "metadata": {},
   "outputs": [],
   "source": [
    "df2 = df.copy()\n",
    "df['pred'] = y_pred\n",
    "df2['pred'] = y_pred2"
   ]
  },
  {
   "cell_type": "markdown",
   "id": "f95155d8",
   "metadata": {},
   "source": [
    "#### Split data and test result"
   ]
  },
  {
   "cell_type": "code",
   "execution_count": 20,
   "id": "d740b516",
   "metadata": {},
   "outputs": [],
   "source": [
    "y = df['integer_label'].astype(int)\n",
    "X = df.drop(columns=['integer_label','id', 'statement', 'context'])\n",
    "\n",
    "\n",
    "col_names = ['barely_true_counts', 'false_counts', 'half_true_counts', 'mostly_true_counts', 'pants_on_fire_counts']\n",
    "features = X[col_names]\n",
    "scaler = StandardScaler().fit(features.values)\n",
    "features = scaler.transform(features.values)\n",
    "X[col_names] = features\n",
    "\n",
    "X_dev, X_test, y_dev, y_test = train_test_split(X, y, test_size=0.2, random_state=0, stratify=y)\n",
    "# X_train, X_val, y_train, y_val = train_test_split(X_dev, y_dev, test_size=0.25, random_state=0, stratify=y_dev)"
   ]
  },
  {
   "cell_type": "code",
   "execution_count": 21,
   "id": "530b93bf",
   "metadata": {},
   "outputs": [],
   "source": [
    "rfc = RandomForestClassifier()\n",
    "model = rfc.fit(X_dev, y_dev)\n",
    "y_pred = model.predict(X_test)"
   ]
  },
  {
   "cell_type": "code",
   "execution_count": 22,
   "id": "434bfc78",
   "metadata": {},
   "outputs": [
    {
     "data": {
      "text/plain": [
       "XGBClassifier(base_score=0.5, booster='gbtree', colsample_bylevel=1,\n",
       "              colsample_bynode=1, colsample_bytree=1, eval_metric='logloss',\n",
       "              gamma=0, gpu_id=-1, importance_type='gain',\n",
       "              interaction_constraints='', learning_rate=0.1, max_delta_step=0,\n",
       "              max_depth=8, min_child_weight=1, missing=nan,\n",
       "              monotone_constraints='()', n_estimators=200, n_jobs=4,\n",
       "              num_parallel_tree=1, random_state=0, reg_alpha=0, reg_lambda=1,\n",
       "              scale_pos_weight=1, subsample=1, tree_method='exact',\n",
       "              validate_parameters=1, verbosity=None)"
      ]
     },
     "execution_count": 22,
     "metadata": {},
     "output_type": "execute_result"
    }
   ],
   "source": [
    "xgb = XGBClassifier(n_estimators=200, max_depth=8, learning_rate=0.1, eval_metric=\"logloss\")\n",
    "xgb.fit(X_dev, y_dev)"
   ]
  },
  {
   "cell_type": "code",
   "execution_count": 23,
   "id": "1b6a71d8",
   "metadata": {},
   "outputs": [
    {
     "data": {
      "text/plain": [
       "GradientBoostingClassifier(max_depth=8, warm_start=True)"
      ]
     },
     "execution_count": 23,
     "metadata": {},
     "output_type": "execute_result"
    }
   ],
   "source": [
    "hgbc = HistGradientBoostingClassifier(max_depth=8, learning_rate=0.1, warm_start=True)\n",
    "gbc = GradientBoostingClassifier(max_depth=8, learning_rate=0.1, warm_start = True)\n",
    "\n",
    "hgbc.fit(X_dev, y_dev)\n",
    "gbc.fit(X_dev, y_dev)"
   ]
  },
  {
   "cell_type": "code",
   "execution_count": 24,
   "id": "a975fd68",
   "metadata": {},
   "outputs": [
    {
     "name": "stdout",
     "output_type": "stream",
     "text": [
      "Random Forest Performance using LSTM: 0.7014218009478673\n",
      "XGBoost Performance using LSTM: 0.7144549763033176\n",
      "Hist Gradient Boosting Performance using LSTM: 0.7318325434439179\n",
      "Gradient Boosting Performance using LSTM: 0.7239336492890995\n"
     ]
    }
   ],
   "source": [
    "print(\"Random Forest Performance using LSTM:\", accuracy_score(y_test, y_pred))\n",
    "print(\"XGBoost Performance using LSTM:\", xgb.score(X_test, y_test))\n",
    "print(\"Hist Gradient Boosting Performance using LSTM:\", hgbc.score(X_test, y_test))\n",
    "print(\"Gradient Boosting Performance using LSTM:\", gbc.score(X_test, y_test))"
   ]
  },
  {
   "cell_type": "code",
   "execution_count": 26,
   "id": "34702124",
   "metadata": {},
   "outputs": [
    {
     "name": "stdout",
     "output_type": "stream",
     "text": [
      "Random Forest Performance using RNN: 0.717219589257504\n",
      "XGBoost Performance using RNN: 0.7468404423380727\n",
      "Hist Gradient Boosting Performance using RNN: 0.7523696682464455\n",
      "Gradient Boosting Performance using RNN: 0.7397314375987362\n"
     ]
    }
   ],
   "source": [
    "y = df2['integer_label'].astype(int)\n",
    "X = df2.drop(columns=['integer_label','id', 'statement', 'context'])\n",
    "\n",
    "\n",
    "col_names = ['barely_true_counts', 'false_counts', 'half_true_counts', 'mostly_true_counts', 'pants_on_fire_counts']\n",
    "features = X[col_names]\n",
    "scaler = StandardScaler().fit(features.values)\n",
    "features = scaler.transform(features.values)\n",
    "X[col_names] = features\n",
    "\n",
    "X_dev, X_test, y_dev, y_test = train_test_split(X, y, test_size=0.2, random_state=0, stratify=y)\n",
    "\n",
    "rfc = RandomForestClassifier()\n",
    "model = rfc.fit(X_dev, y_dev)\n",
    "y_pred = model.predict(X_test)\n",
    "\n",
    "xgb = XGBClassifier(n_estimators=200, max_depth=8, learning_rate=0.05, eval_metric=\"logloss\")\n",
    "xgb.fit(X_dev, y_dev)\n",
    "\n",
    "hgbc = HistGradientBoostingClassifier(max_depth=8, learning_rate=0.05, warm_start=True)\n",
    "gbc = GradientBoostingClassifier(max_depth=8, learning_rate=0.05, warm_start = True)\n",
    "\n",
    "hgbc.fit(X_dev, y_dev)\n",
    "gbc.fit(X_dev, y_dev)\n",
    "\n",
    "print(\"Random Forest Performance using RNN:\", accuracy_score(y_test, y_pred))\n",
    "print(\"XGBoost Performance using RNN:\", xgb.score(X_test, y_test))\n",
    "print(\"Hist Gradient Boosting Performance using RNN:\", hgbc.score(X_test, y_test))\n",
    "print(\"Gradient Boosting Performance using RNN:\", gbc.score(X_test, y_test))"
   ]
  },
  {
   "cell_type": "code",
   "execution_count": 27,
   "id": "0fbf1324",
   "metadata": {},
   "outputs": [
    {
     "data": {
      "image/png": "[encoded data removed]",
      "text/plain": [
       "<Figure size 432x288 with 1 Axes>"
      ]
     },
     "metadata": {
      "needs_background": "light"
     },
     "output_type": "display_data"
    }
   ],
   "source": [
    "plt.plot(history.history['accuracy'])\n",
    "plt.plot(history.history['val_accuracy'])\n",
    "plt.plot(history.history['loss'])\n",
    "plt.plot(history.history['val_loss'])\n",
    "plt.ylabel('accuracy')\n",
    "plt.xlabel('epoch')\n",
    "plt.legend(['train accuracy', 'val accuracy', 'train loss', 'val loss'], bbox_to_anchor=(1, 1), loc='upper left')\n",
    "plt.show()"
   ]
  },
  {
   "cell_type": "code",
   "execution_count": 28,
   "id": "7ba879d4",
   "metadata": {},
   "outputs": [
    {
     "data": {
      "image/png": "[encoded data removed]",
      "text/plain": [
       "<Figure size 432x288 with 1 Axes>"
      ]
     },
     "metadata": {
      "needs_background": "light"
     },
     "output_type": "display_data"
    }
   ],
   "source": [
    "plt.plot(history2.history['accuracy'])\n",
    "plt.plot(history2.history['val_accuracy'])\n",
    "plt.plot(history2.history['loss'])\n",
    "plt.plot(history2.history['val_loss'])\n",
    "plt.ylabel('accuracy')\n",
    "plt.xlabel('epoch')\n",
    "plt.legend(['train accuracy', 'val accuracy', 'train loss', 'val loss'], bbox_to_anchor=(1, 1), loc='upper left')\n",
    "plt.show()"
   ]
  },
  {
   "cell_type": "code",
   "execution_count": null,
   "id": "59197b22",
   "metadata": {},
   "outputs": [],
   "source": []
  }
 ],
 "metadata": {
  "kernelspec": {
   "display_name": "Python 3 (ipykernel)",
   "language": "python",
   "name": "python3"
  },
  "language_info": {
   "codemirror_mode": {
    "name": "ipython",
    "version": 3
   },
   "file_extension": ".py",
   "mimetype": "text/x-python",
   "name": "python",
   "nbconvert_exporter": "python",
   "pygments_lexer": "ipython3",
   "version": "3.11.5"
  }
 },
 "nbformat": 4,
 "nbformat_minor": 5
}
